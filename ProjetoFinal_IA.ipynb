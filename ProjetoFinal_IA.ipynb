{
  "nbformat": 4,
  "nbformat_minor": 0,
  "metadata": {
    "colab": {
      "provenance": []
    },
    "kernelspec": {
      "name": "python3",
      "display_name": "Python 3"
    },
    "language_info": {
      "name": "python"
    }
  },
  "cells": [
    {
      "cell_type": "markdown",
      "source": [
        "# *EECP0008 - INTELIGÊNCIA ARTIFICIAL (2022 .1 - T01)*\n",
        "\n",
        "## *PROJETO FINAL*\n",
        "*EQUIPE D: JEFFERSSON DE CARVALHO, JOAO GABRIEL MUNIZ DA SILVA, RANIERE MENDES DOS SANTOS, PEDRO HENRIQUE MODESTO DE AGUIAR E WELYAB DA SILVA PAULA.*"
      ],
      "metadata": {
        "id": "Q_QEbdIQyOc9"
      }
    },
    {
      "cell_type": "markdown",
      "source": [
        "-----------------------------------------------------------\n",
        "OBJETIVO: A partir da base de dados \"in-vehicle coupon recommendation Data\", implementaremos os seguintes métodos de aprendizado de máquina:\n",
        "* Random Forest \n",
        "* KNN\n",
        "* Árvore de Decisão\n",
        "* SVM\n",
        "\n",
        "Com o intuito de classificar um conjunto de teste (de forma supervisionada) que analisa qual, dos 5 tipos de cupom (**Bar, Restaurante Apenas p/ Retirada, Cafeteria, Restaurante Barato, Restaurante Caro)**, foi oferecido a ela durante o trânsito, baseado em condições como:\n",
        "\n",
        "* **Aceitação: Cupom Aceito, Cupom não aceito**\n",
        "\n",
        "* **destino: Local Não Urgente, Casa, Trabalho**\n",
        "\n",
        "* **Passageiro: Sozinho, Amigo(s), Filho(s), Parceiro (que são os passageiros do carro)**\n",
        "\n",
        "* **Clima: Ensolarado, Chuvoso, Nevado**\n",
        "\n",
        "* **Temperatura: 55, 80, 30**\n",
        "\n",
        "* **hora: 14h , 10h, 18h, 7h, 22h**\n",
        "\n",
        "---------------------------------------------------------\n",
        "\n",
        "Para isso, utilizaremos:\n",
        "* Uma técnica de validação cruzada (Stratified KFold);\n",
        "* Otimização dos parâmetros do algoritmo de aprendizagem de máquina;\n",
        "* Métodos de Avaliação dos resultados.\n",
        "\n",
        "-----------------------------------------------------------------\n",
        "Referências:\n",
        "\n",
        "* http://archive.ics.uci.edu/ml/datasets/in-vehicle+coupon+recommendation\n",
        "\n",
        "* Wang, Tong, Cynthia Rudin, Finale Doshi-Velez, Yimin Liu, Erica Klampfl, and Perry MacNeille. 'A bayesian framework for learning rule sets for interpretable classification.' The Journal of Machine Learning Research 18, no. 1 (2017): 2357-2393."
      ],
      "metadata": {
        "id": "XHJuzpLSyxRM"
      }
    },
    {
      "cell_type": "markdown",
      "source": [
        "# -> Importando Bibliotecas e Base de dados"
      ],
      "metadata": {
        "id": "rmH03zFN3b40"
      }
    },
    {
      "cell_type": "code",
      "metadata": {
        "id": "FWsPVO4pr6WC"
      },
      "source": [
        "import pandas as pd\n",
        "import numpy as np\n",
        "import seaborn as sb\n",
        "# Random Forest\n",
        "from sklearn.ensemble import RandomForestClassifier\n",
        "# para normalizar os dados\n",
        "from sklearn.preprocessing import StandardScaler\n",
        "# para reduzir a dimensionalidade\n",
        "from sklearn.decomposition import PCA\n",
        "# Construir pipeline\n",
        "from sklearn.pipeline import make_pipeline\n",
        "#Dividir dataset em dados de treino e teste\n",
        "from sklearn.model_selection import train_test_split\n",
        "#Exibir Métricas de Classofocação\n",
        "from sklearn.metrics import accuracy_score, confusion_matrix, classification_report\n",
        "#Algorítimo de Validação Cruzada\n",
        "from sklearn.model_selection import StratifiedKFold\n",
        "#Algoritimo de Balanceamento por UnderSampling\n",
        "from imblearn.under_sampling import NearMiss\n",
        "#Algoritimo de Balanceamento por OverSampling\n",
        "from imblearn.over_sampling import SMOTE"
      ],
      "execution_count": 1,
      "outputs": []
    },
    {
      "cell_type": "code",
      "source": [
        "data_base = pd.read_csv(\"/content/in-vehicle-coupon-recommendation.csv\")\n",
        "data_base.info()"
      ],
      "metadata": {
        "id": "DRXO0SRo-__r",
        "outputId": "1e836663-ab58-4a5e-a26e-617b16a09f08",
        "colab": {
          "base_uri": "https://localhost:8080/",
          "height": 345
        }
      },
      "execution_count": null,
      "outputs": [
        {
          "output_type": "error",
          "ename": "FileNotFoundError",
          "evalue": "ignored",
          "traceback": [
            "\u001b[0;31m---------------------------------------------------------------------------\u001b[0m",
            "\u001b[0;31mFileNotFoundError\u001b[0m                         Traceback (most recent call last)",
            "\u001b[0;32m<ipython-input-2-09f0179d7054>\u001b[0m in \u001b[0;36m<module>\u001b[0;34m\u001b[0m\n\u001b[0;32m----> 1\u001b[0;31m \u001b[0mdata_base\u001b[0m \u001b[0;34m=\u001b[0m \u001b[0mpd\u001b[0m\u001b[0;34m.\u001b[0m\u001b[0mread_csv\u001b[0m\u001b[0;34m(\u001b[0m\u001b[0;34m\"/content/in-vehicle-coupon-recommendation.csv\"\u001b[0m\u001b[0;34m)\u001b[0m\u001b[0;34m\u001b[0m\u001b[0;34m\u001b[0m\u001b[0m\n\u001b[0m\u001b[1;32m      2\u001b[0m \u001b[0mdata_base\u001b[0m\u001b[0;34m.\u001b[0m\u001b[0minfo\u001b[0m\u001b[0;34m(\u001b[0m\u001b[0;34m)\u001b[0m\u001b[0;34m\u001b[0m\u001b[0;34m\u001b[0m\u001b[0m\n",
            "\u001b[0;32m/usr/local/lib/python3.8/dist-packages/pandas/util/_decorators.py\u001b[0m in \u001b[0;36mwrapper\u001b[0;34m(*args, **kwargs)\u001b[0m\n\u001b[1;32m    309\u001b[0m                     \u001b[0mstacklevel\u001b[0m\u001b[0;34m=\u001b[0m\u001b[0mstacklevel\u001b[0m\u001b[0;34m,\u001b[0m\u001b[0;34m\u001b[0m\u001b[0;34m\u001b[0m\u001b[0m\n\u001b[1;32m    310\u001b[0m                 )\n\u001b[0;32m--> 311\u001b[0;31m             \u001b[0;32mreturn\u001b[0m \u001b[0mfunc\u001b[0m\u001b[0;34m(\u001b[0m\u001b[0;34m*\u001b[0m\u001b[0margs\u001b[0m\u001b[0;34m,\u001b[0m \u001b[0;34m**\u001b[0m\u001b[0mkwargs\u001b[0m\u001b[0;34m)\u001b[0m\u001b[0;34m\u001b[0m\u001b[0;34m\u001b[0m\u001b[0m\n\u001b[0m\u001b[1;32m    312\u001b[0m \u001b[0;34m\u001b[0m\u001b[0m\n\u001b[1;32m    313\u001b[0m         \u001b[0;32mreturn\u001b[0m \u001b[0mwrapper\u001b[0m\u001b[0;34m\u001b[0m\u001b[0;34m\u001b[0m\u001b[0m\n",
            "\u001b[0;32m/usr/local/lib/python3.8/dist-packages/pandas/io/parsers/readers.py\u001b[0m in \u001b[0;36mread_csv\u001b[0;34m(filepath_or_buffer, sep, delimiter, header, names, index_col, usecols, squeeze, prefix, mangle_dupe_cols, dtype, engine, converters, true_values, false_values, skipinitialspace, skiprows, skipfooter, nrows, na_values, keep_default_na, na_filter, verbose, skip_blank_lines, parse_dates, infer_datetime_format, keep_date_col, date_parser, dayfirst, cache_dates, iterator, chunksize, compression, thousands, decimal, lineterminator, quotechar, quoting, doublequote, escapechar, comment, encoding, encoding_errors, dialect, error_bad_lines, warn_bad_lines, on_bad_lines, delim_whitespace, low_memory, memory_map, float_precision, storage_options)\u001b[0m\n\u001b[1;32m    584\u001b[0m     \u001b[0mkwds\u001b[0m\u001b[0;34m.\u001b[0m\u001b[0mupdate\u001b[0m\u001b[0;34m(\u001b[0m\u001b[0mkwds_defaults\u001b[0m\u001b[0;34m)\u001b[0m\u001b[0;34m\u001b[0m\u001b[0;34m\u001b[0m\u001b[0m\n\u001b[1;32m    585\u001b[0m \u001b[0;34m\u001b[0m\u001b[0m\n\u001b[0;32m--> 586\u001b[0;31m     \u001b[0;32mreturn\u001b[0m \u001b[0m_read\u001b[0m\u001b[0;34m(\u001b[0m\u001b[0mfilepath_or_buffer\u001b[0m\u001b[0;34m,\u001b[0m \u001b[0mkwds\u001b[0m\u001b[0;34m)\u001b[0m\u001b[0;34m\u001b[0m\u001b[0;34m\u001b[0m\u001b[0m\n\u001b[0m\u001b[1;32m    587\u001b[0m \u001b[0;34m\u001b[0m\u001b[0m\n\u001b[1;32m    588\u001b[0m \u001b[0;34m\u001b[0m\u001b[0m\n",
            "\u001b[0;32m/usr/local/lib/python3.8/dist-packages/pandas/io/parsers/readers.py\u001b[0m in \u001b[0;36m_read\u001b[0;34m(filepath_or_buffer, kwds)\u001b[0m\n\u001b[1;32m    480\u001b[0m \u001b[0;34m\u001b[0m\u001b[0m\n\u001b[1;32m    481\u001b[0m     \u001b[0;31m# Create the parser.\u001b[0m\u001b[0;34m\u001b[0m\u001b[0;34m\u001b[0m\u001b[0;34m\u001b[0m\u001b[0m\n\u001b[0;32m--> 482\u001b[0;31m     \u001b[0mparser\u001b[0m \u001b[0;34m=\u001b[0m \u001b[0mTextFileReader\u001b[0m\u001b[0;34m(\u001b[0m\u001b[0mfilepath_or_buffer\u001b[0m\u001b[0;34m,\u001b[0m \u001b[0;34m**\u001b[0m\u001b[0mkwds\u001b[0m\u001b[0;34m)\u001b[0m\u001b[0;34m\u001b[0m\u001b[0;34m\u001b[0m\u001b[0m\n\u001b[0m\u001b[1;32m    483\u001b[0m \u001b[0;34m\u001b[0m\u001b[0m\n\u001b[1;32m    484\u001b[0m     \u001b[0;32mif\u001b[0m \u001b[0mchunksize\u001b[0m \u001b[0;32mor\u001b[0m \u001b[0miterator\u001b[0m\u001b[0;34m:\u001b[0m\u001b[0;34m\u001b[0m\u001b[0;34m\u001b[0m\u001b[0m\n",
            "\u001b[0;32m/usr/local/lib/python3.8/dist-packages/pandas/io/parsers/readers.py\u001b[0m in \u001b[0;36m__init__\u001b[0;34m(self, f, engine, **kwds)\u001b[0m\n\u001b[1;32m    809\u001b[0m             \u001b[0mself\u001b[0m\u001b[0;34m.\u001b[0m\u001b[0moptions\u001b[0m\u001b[0;34m[\u001b[0m\u001b[0;34m\"has_index_names\"\u001b[0m\u001b[0;34m]\u001b[0m \u001b[0;34m=\u001b[0m \u001b[0mkwds\u001b[0m\u001b[0;34m[\u001b[0m\u001b[0;34m\"has_index_names\"\u001b[0m\u001b[0;34m]\u001b[0m\u001b[0;34m\u001b[0m\u001b[0;34m\u001b[0m\u001b[0m\n\u001b[1;32m    810\u001b[0m \u001b[0;34m\u001b[0m\u001b[0m\n\u001b[0;32m--> 811\u001b[0;31m         \u001b[0mself\u001b[0m\u001b[0;34m.\u001b[0m\u001b[0m_engine\u001b[0m \u001b[0;34m=\u001b[0m \u001b[0mself\u001b[0m\u001b[0;34m.\u001b[0m\u001b[0m_make_engine\u001b[0m\u001b[0;34m(\u001b[0m\u001b[0mself\u001b[0m\u001b[0;34m.\u001b[0m\u001b[0mengine\u001b[0m\u001b[0;34m)\u001b[0m\u001b[0;34m\u001b[0m\u001b[0;34m\u001b[0m\u001b[0m\n\u001b[0m\u001b[1;32m    812\u001b[0m \u001b[0;34m\u001b[0m\u001b[0m\n\u001b[1;32m    813\u001b[0m     \u001b[0;32mdef\u001b[0m \u001b[0mclose\u001b[0m\u001b[0;34m(\u001b[0m\u001b[0mself\u001b[0m\u001b[0;34m)\u001b[0m\u001b[0;34m:\u001b[0m\u001b[0;34m\u001b[0m\u001b[0;34m\u001b[0m\u001b[0m\n",
            "\u001b[0;32m/usr/local/lib/python3.8/dist-packages/pandas/io/parsers/readers.py\u001b[0m in \u001b[0;36m_make_engine\u001b[0;34m(self, engine)\u001b[0m\n\u001b[1;32m   1038\u001b[0m             )\n\u001b[1;32m   1039\u001b[0m         \u001b[0;31m# error: Too many arguments for \"ParserBase\"\u001b[0m\u001b[0;34m\u001b[0m\u001b[0;34m\u001b[0m\u001b[0;34m\u001b[0m\u001b[0m\n\u001b[0;32m-> 1040\u001b[0;31m         \u001b[0;32mreturn\u001b[0m \u001b[0mmapping\u001b[0m\u001b[0;34m[\u001b[0m\u001b[0mengine\u001b[0m\u001b[0;34m]\u001b[0m\u001b[0;34m(\u001b[0m\u001b[0mself\u001b[0m\u001b[0;34m.\u001b[0m\u001b[0mf\u001b[0m\u001b[0;34m,\u001b[0m \u001b[0;34m**\u001b[0m\u001b[0mself\u001b[0m\u001b[0;34m.\u001b[0m\u001b[0moptions\u001b[0m\u001b[0;34m)\u001b[0m  \u001b[0;31m# type: ignore[call-arg]\u001b[0m\u001b[0;34m\u001b[0m\u001b[0;34m\u001b[0m\u001b[0m\n\u001b[0m\u001b[1;32m   1041\u001b[0m \u001b[0;34m\u001b[0m\u001b[0m\n\u001b[1;32m   1042\u001b[0m     \u001b[0;32mdef\u001b[0m \u001b[0m_failover_to_python\u001b[0m\u001b[0;34m(\u001b[0m\u001b[0mself\u001b[0m\u001b[0;34m)\u001b[0m\u001b[0;34m:\u001b[0m\u001b[0;34m\u001b[0m\u001b[0;34m\u001b[0m\u001b[0m\n",
            "\u001b[0;32m/usr/local/lib/python3.8/dist-packages/pandas/io/parsers/c_parser_wrapper.py\u001b[0m in \u001b[0;36m__init__\u001b[0;34m(self, src, **kwds)\u001b[0m\n\u001b[1;32m     49\u001b[0m \u001b[0;34m\u001b[0m\u001b[0m\n\u001b[1;32m     50\u001b[0m         \u001b[0;31m# open handles\u001b[0m\u001b[0;34m\u001b[0m\u001b[0;34m\u001b[0m\u001b[0;34m\u001b[0m\u001b[0m\n\u001b[0;32m---> 51\u001b[0;31m         \u001b[0mself\u001b[0m\u001b[0;34m.\u001b[0m\u001b[0m_open_handles\u001b[0m\u001b[0;34m(\u001b[0m\u001b[0msrc\u001b[0m\u001b[0;34m,\u001b[0m \u001b[0mkwds\u001b[0m\u001b[0;34m)\u001b[0m\u001b[0;34m\u001b[0m\u001b[0;34m\u001b[0m\u001b[0m\n\u001b[0m\u001b[1;32m     52\u001b[0m         \u001b[0;32massert\u001b[0m \u001b[0mself\u001b[0m\u001b[0;34m.\u001b[0m\u001b[0mhandles\u001b[0m \u001b[0;32mis\u001b[0m \u001b[0;32mnot\u001b[0m \u001b[0;32mNone\u001b[0m\u001b[0;34m\u001b[0m\u001b[0;34m\u001b[0m\u001b[0m\n\u001b[1;32m     53\u001b[0m \u001b[0;34m\u001b[0m\u001b[0m\n",
            "\u001b[0;32m/usr/local/lib/python3.8/dist-packages/pandas/io/parsers/base_parser.py\u001b[0m in \u001b[0;36m_open_handles\u001b[0;34m(self, src, kwds)\u001b[0m\n\u001b[1;32m    220\u001b[0m         \u001b[0mLet\u001b[0m \u001b[0mthe\u001b[0m \u001b[0mreaders\u001b[0m \u001b[0mopen\u001b[0m \u001b[0mIOHandles\u001b[0m \u001b[0mafter\u001b[0m \u001b[0mthey\u001b[0m \u001b[0mare\u001b[0m \u001b[0mdone\u001b[0m \u001b[0;32mwith\u001b[0m \u001b[0mtheir\u001b[0m \u001b[0mpotential\u001b[0m \u001b[0mraises\u001b[0m\u001b[0;34m.\u001b[0m\u001b[0;34m\u001b[0m\u001b[0;34m\u001b[0m\u001b[0m\n\u001b[1;32m    221\u001b[0m         \"\"\"\n\u001b[0;32m--> 222\u001b[0;31m         self.handles = get_handle(\n\u001b[0m\u001b[1;32m    223\u001b[0m             \u001b[0msrc\u001b[0m\u001b[0;34m,\u001b[0m\u001b[0;34m\u001b[0m\u001b[0;34m\u001b[0m\u001b[0m\n\u001b[1;32m    224\u001b[0m             \u001b[0;34m\"r\"\u001b[0m\u001b[0;34m,\u001b[0m\u001b[0;34m\u001b[0m\u001b[0;34m\u001b[0m\u001b[0m\n",
            "\u001b[0;32m/usr/local/lib/python3.8/dist-packages/pandas/io/common.py\u001b[0m in \u001b[0;36mget_handle\u001b[0;34m(path_or_buf, mode, encoding, compression, memory_map, is_text, errors, storage_options)\u001b[0m\n\u001b[1;32m    700\u001b[0m         \u001b[0;32mif\u001b[0m \u001b[0mioargs\u001b[0m\u001b[0;34m.\u001b[0m\u001b[0mencoding\u001b[0m \u001b[0;32mand\u001b[0m \u001b[0;34m\"b\"\u001b[0m \u001b[0;32mnot\u001b[0m \u001b[0;32min\u001b[0m \u001b[0mioargs\u001b[0m\u001b[0;34m.\u001b[0m\u001b[0mmode\u001b[0m\u001b[0;34m:\u001b[0m\u001b[0;34m\u001b[0m\u001b[0;34m\u001b[0m\u001b[0m\n\u001b[1;32m    701\u001b[0m             \u001b[0;31m# Encoding\u001b[0m\u001b[0;34m\u001b[0m\u001b[0;34m\u001b[0m\u001b[0;34m\u001b[0m\u001b[0m\n\u001b[0;32m--> 702\u001b[0;31m             handle = open(\n\u001b[0m\u001b[1;32m    703\u001b[0m                 \u001b[0mhandle\u001b[0m\u001b[0;34m,\u001b[0m\u001b[0;34m\u001b[0m\u001b[0;34m\u001b[0m\u001b[0m\n\u001b[1;32m    704\u001b[0m                 \u001b[0mioargs\u001b[0m\u001b[0;34m.\u001b[0m\u001b[0mmode\u001b[0m\u001b[0;34m,\u001b[0m\u001b[0;34m\u001b[0m\u001b[0;34m\u001b[0m\u001b[0m\n",
            "\u001b[0;31mFileNotFoundError\u001b[0m: [Errno 2] No such file or directory: '/content/in-vehicle-coupon-recommendation.csv'"
          ]
        }
      ]
    },
    {
      "cell_type": "markdown",
      "source": [
        "# -> Pré-Processamento:"
      ],
      "metadata": {
        "id": "oteIBK0LZHvK"
      }
    },
    {
      "cell_type": "code",
      "source": [
        "data_base.isnull().sum() #Verificando a presença de campos nulos"
      ],
      "metadata": {
        "id": "t4ZVX6CYiLAt"
      },
      "execution_count": null,
      "outputs": []
    },
    {
      "cell_type": "code",
      "source": [
        "plt = sb.countplot(x=\"toCoupon_GEQ5min\", data=data_base)"
      ],
      "metadata": {
        "id": "QniC9dW1jl8R"
      },
      "execution_count": null,
      "outputs": []
    },
    {
      "cell_type": "code",
      "source": [
        "plt = sb.countplot(x=\"car\", data=data_base)"
      ],
      "metadata": {
        "id": "RURB9rmlkmIH"
      },
      "execution_count": null,
      "outputs": []
    },
    {
      "cell_type": "code",
      "source": [
        "data_base = data_base.drop('toCoupon_GEQ5min', axis=1) #A Feature \"toCoupon_GEQ5min\" possui apenas o valor 1\n",
        "data_base = data_base.drop('car', axis=1) #A Feature possui grande quantidade de valores nulos\n",
        "data_base.dropna(inplace = True) #excluindo linhas com valores nulos"
      ],
      "metadata": {
        "id": "TqfA-87vZGrr"
      },
      "execution_count": null,
      "outputs": []
    },
    {
      "cell_type": "code",
      "source": [
        "data_base.isnull().sum() #Verificando novamente a presença de campos nulos"
      ],
      "metadata": {
        "id": "SK8D4DUkiYtX"
      },
      "execution_count": null,
      "outputs": []
    },
    {
      "cell_type": "code",
      "source": [
        "data_base.info()"
      ],
      "metadata": {
        "id": "NOJv4pb1-uZx"
      },
      "execution_count": null,
      "outputs": []
    },
    {
      "cell_type": "markdown",
      "source": [
        "Agora que todos os campos em branco foram removidos, os dados de algumas Features que se encontram textuais devem ser convertidos em dados numéricos:"
      ],
      "metadata": {
        "id": "L8B3ipuemdpE"
      }
    },
    {
      "cell_type": "code",
      "source": [
        "data_base[\"destination\"] = data_base[\"destination\"].map({\"Home\":0, \"No Urgent Place\":1, \"Work\":2})\n",
        "data_base[\"passanger\"] = data_base[\"passanger\"].map({\"Alone\":0, \"Friend(s)\":1, \"Kid(s)\":2, \"Partner\":3})\n",
        "data_base[\"weather\"] = data_base[\"weather\"].map({\"Rainy\":0, \"Snowy\":1, \"Sunny\":2})\n",
        "data_base[\"time\"] = data_base[\"time\"].map({\"7AM\":7, \"10AM\":10, \"2PM\":14, \"6PM\":18, \"10PM\":22})\n",
        "data_base[\"coupon\"] = data_base[\"coupon\"].map({\"Bar\":0, \"Carry out & Take away\":1, \"Coffee House\":2, \n",
        "                                               \"Restaurant(<20)\":3, \"Restaurant(20-50)\":4})\n",
        "data_base[\"expiration\"] = data_base[\"expiration\"].map({\"2h\":0, \"1d\":1})\n",
        "data_base[\"gender\"] = data_base[\"gender\"].map({\"Female\":0, \"Male\":1})\n",
        "data_base[\"age\"] = data_base[\"age\"].map({\"below21\":0, \"21\":21, \"26\":26, \"31\":31, \"36\":36, \"41\":41, \"46\":46, \"50plus\":50})\n",
        "data_base[\"maritalStatus\"] = data_base[\"maritalStatus\"].map({\"Divorced\":0, \"Married partner\":1, \n",
        "                                                             \"Single\":2, \"Unmarried partner\":3, \"Widowed\":4})\n",
        "data_base[\"education\"] = data_base[\"education\"].map({\"Associates degree\":0, \"Bachelors degree\":1, \n",
        "                                                     \"Graduate degree (Masters or Doctorate)\":2, \n",
        "                                                     \"High School Graduate\":3, \"Some college - no degree\":4, \n",
        "                                                     \"Some High School\":5})\n",
        "data_base[\"Bar\"] = data_base[\"Bar\"].map({\"never\":0, \"less1\":1, \"1~3\":2, \"4~8\":3, \"gt8\":4})\n",
        "data_base[\"CoffeeHouse\"] = data_base[\"CoffeeHouse\"].map({\"never\":0, \"less1\":1, \"1~3\":2, \"4~8\":3, \"gt8\":4})\n",
        "data_base[\"CarryAway\"] = data_base[\"CarryAway\"].map({\"never\":0, \"less1\":1, \"1~3\":2, \"4~8\":3, \"gt8\":4})\n",
        "data_base[\"RestaurantLessThan20\"] = data_base[\"RestaurantLessThan20\"].map({\"never\":0, \"less1\":1, \"1~3\":2, \"4~8\":3, \"gt8\":4})\n",
        "data_base[\"Restaurant20To50\"] = data_base[\"Restaurant20To50\"].map({\"never\":0, \"less1\":1, \"1~3\":2, \"4~8\":3, \"gt8\":4})\n",
        "data_base.info()"
      ],
      "metadata": {
        "id": "2Aw6gNRz0Vgj",
        "colab": {
          "base_uri": "https://localhost:8080/"
        },
        "outputId": "9ec27660-d8ca-4b8f-8af7-4db18331ce52"
      },
      "execution_count": null,
      "outputs": [
        {
          "output_type": "stream",
          "name": "stdout",
          "text": [
            "<class 'pandas.core.frame.DataFrame'>\n",
            "Int64Index: 12079 entries, 22 to 12683\n",
            "Data columns (total 24 columns):\n",
            " #   Column                Non-Null Count  Dtype \n",
            "---  ------                --------------  ----- \n",
            " 0   destination           12079 non-null  int64 \n",
            " 1   passanger             12079 non-null  int64 \n",
            " 2   weather               12079 non-null  int64 \n",
            " 3   temperature           12079 non-null  int64 \n",
            " 4   time                  12079 non-null  int64 \n",
            " 5   coupon                12079 non-null  int64 \n",
            " 6   expiration            12079 non-null  int64 \n",
            " 7   gender                12079 non-null  int64 \n",
            " 8   age                   12079 non-null  int64 \n",
            " 9   maritalStatus         12079 non-null  int64 \n",
            " 10  has_children          12079 non-null  int64 \n",
            " 11  education             12079 non-null  int64 \n",
            " 12  occupation            12079 non-null  object\n",
            " 13  income                12079 non-null  object\n",
            " 14  Bar                   12079 non-null  int64 \n",
            " 15  CoffeeHouse           12079 non-null  int64 \n",
            " 16  CarryAway             12079 non-null  int64 \n",
            " 17  RestaurantLessThan20  12079 non-null  int64 \n",
            " 18  Restaurant20To50      12079 non-null  int64 \n",
            " 19  toCoupon_GEQ15min     12079 non-null  int64 \n",
            " 20  toCoupon_GEQ25min     12079 non-null  int64 \n",
            " 21  direction_same        12079 non-null  int64 \n",
            " 22  direction_opp         12079 non-null  int64 \n",
            " 23  Y                     12079 non-null  int64 \n",
            "dtypes: int64(22), object(2)\n",
            "memory usage: 2.3+ MB\n"
          ]
        }
      ]
    },
    {
      "cell_type": "markdown",
      "source": [
        "Agora transformando as demais Features categóricas em quantitativas:"
      ],
      "metadata": {
        "id": "Hlt4rLH1ELDb"
      }
    },
    {
      "cell_type": "code",
      "source": [
        "data_base = pd.get_dummies(data_base,columns=['occupation','income'])"
      ],
      "metadata": {
        "id": "qy8-wnlv6uU_"
      },
      "execution_count": null,
      "outputs": []
    },
    {
      "cell_type": "code",
      "source": [
        "data_base.shape"
      ],
      "metadata": {
        "id": "lXJ9gnpn8S2F",
        "colab": {
          "base_uri": "https://localhost:8080/"
        },
        "outputId": "b7001507-cbd7-4cf1-982a-23b624d98aac"
      },
      "execution_count": null,
      "outputs": [
        {
          "output_type": "execute_result",
          "data": {
            "text/plain": [
              "(12079, 56)"
            ]
          },
          "metadata": {},
          "execution_count": 33
        }
      ]
    },
    {
      "cell_type": "code",
      "source": [
        "plt = sb.countplot(x=\"coupon\", data=data_base)\n",
        "# \"Bar\"-> 0, \"Carry out & Take away\" ->1, \"Coffee House\" ->2, \"Restaurant(<20)\" -> 3, \"Restaurant(20-50)\"-> 4"
      ],
      "metadata": {
        "id": "L41e7gtluqfd",
        "colab": {
          "base_uri": "https://localhost:8080/",
          "height": 283
        },
        "outputId": "19abc615-9907-47f2-cb2d-2e1756a7b8cf"
      },
      "execution_count": null,
      "outputs": [
        {
          "output_type": "display_data",
          "data": {
            "text/plain": [
              "<Figure size 432x288 with 1 Axes>"
            ],
            "image/png": "[encoded data removed]"
          },
          "metadata": {
            "needs_background": "light"
          }
        }
      ]
    },
    {
      "cell_type": "markdown",
      "source": [
        "\\Balenceando as Classes com Undersampling utilizando NearMiss:"
      ],
      "metadata": {
        "id": "OUtrduQD7Mfg"
      }
    },
    {
      "cell_type": "code",
      "source": [
        "plt = sb.countplot(x=\"coupon\", data=data_base)"
      ],
      "metadata": {
        "id": "9wkhW9H_M0fT",
        "colab": {
          "base_uri": "https://localhost:8080/",
          "height": 283
        },
        "outputId": "d4e8ef25-c0f4-4c34-aecd-fcc4debc2082"
      },
      "execution_count": null,
      "outputs": [
        {
          "output_type": "display_data",
          "data": {
            "text/plain": [
              "<Figure size 432x288 with 1 Axes>"
            ],
            "image/png": "[encoded data removed]"
          },
          "metadata": {
            "needs_background": "light"
          }
        }
      ]
    },
    {
      "cell_type": "code",
      "source": [
        "nm = NearMiss()"
      ],
      "metadata": {
        "id": "HBOCMj-j6_Ng"
      },
      "execution_count": null,
      "outputs": []
    },
    {
      "cell_type": "code",
      "source": [
        "x_nm = data_base.drop(\"coupon\", axis = 1)\n",
        "y_nm = data_base.coupon"
      ],
      "metadata": {
        "id": "cHeOs7Ve_nFw"
      },
      "execution_count": null,
      "outputs": []
    },
    {
      "cell_type": "code",
      "source": [
        "x_nm, y_nm = nm.fit_resample(x_nm, y_nm)"
      ],
      "metadata": {
        "id": "GTNoHfBj_qFD"
      },
      "execution_count": null,
      "outputs": []
    },
    {
      "cell_type": "code",
      "source": [
        "data_base_nm = x_nm.merge(y_nm,left_index=True, right_index=True)"
      ],
      "metadata": {
        "id": "D9KVO7FbHMVu"
      },
      "execution_count": null,
      "outputs": []
    },
    {
      "cell_type": "code",
      "source": [
        "plt = sb.countplot(x=[\"Bar\", \"Carry out & Take away\", \"Coffee House\", \"Restaurant(<20)\" , \"Restaurant(20-50)\"], data = data_base_nm)"
      ],
      "metadata": {
        "id": "XAKjUN2y-D74",
        "colab": {
          "base_uri": "https://localhost:8080/",
          "height": 265
        },
        "outputId": "dd0b5982-d1e3-4316-bfea-f92d63d15fd8"
      },
      "execution_count": null,
      "outputs": [
        {
          "output_type": "display_data",
          "data": {
            "text/plain": [
              "<Figure size 432x288 with 1 Axes>"
            ],
            "image/png": "[encoded data removed]"
          },
          "metadata": {
            "needs_background": "light"
          }
        }
      ]
    },
    {
      "cell_type": "markdown",
      "source": [
        "**Testando Acurácia do Modelo com UnderSampling**\n",
        "\n"
      ],
      "metadata": {
        "id": "EihSwt_MLTlU"
      }
    },
    {
      "cell_type": "code",
      "source": [
        "rf = RandomForestClassifier()\n",
        "x = data_base_nm.drop(\"coupon\", axis = 1)\n",
        "y = data_base_nm.coupon\n",
        "x_train, x_test, y_train, y_test = train_test_split(x, y, random_state = 10, stratify = y)\n",
        "rf.fit(x_train, y_train)\n",
        "y_pred = rf.predict(x_test)"
      ],
      "metadata": {
        "id": "wCe2WTU0LStM"
      },
      "execution_count": null,
      "outputs": []
    },
    {
      "cell_type": "code",
      "source": [
        "accuracy_score(y_test, y_pred)"
      ],
      "metadata": {
        "id": "bShTmFY_LuR8",
        "colab": {
          "base_uri": "https://localhost:8080/"
        },
        "outputId": "855ad45b-2fea-4ade-9934-a4457aefdd12"
      },
      "execution_count": null,
      "outputs": [
        {
          "output_type": "execute_result",
          "data": {
            "text/plain": [
              "0.7545146726862303"
            ]
          },
          "metadata": {},
          "execution_count": 63
        }
      ]
    },
    {
      "cell_type": "code",
      "source": [
        "print(pd.crosstab(y_test, y_pred, rownames = [\"Real\"], colnames = [\"Predito\"], margins = True))"
      ],
      "metadata": {
        "id": "lhlgKPTcLwFU",
        "colab": {
          "base_uri": "https://localhost:8080/"
        },
        "outputId": "7dd05c07-d7c0-4973-8d1b-45536570f136"
      },
      "execution_count": null,
      "outputs": [
        {
          "output_type": "stream",
          "name": "stdout",
          "text": [
            "Predito    0    1    2    3    4   All\n",
            "Real                                  \n",
            "0        298    5   23   14   14   354\n",
            "1         10  286   43   11    5   355\n",
            "2          9   31  237   48   29   354\n",
            "3          9   22   35  273   15   354\n",
            "4         25   13   50   24  243   355\n",
            "All      351  357  388  370  306  1772\n"
          ]
        }
      ]
    },
    {
      "cell_type": "code",
      "source": [
        "print(classification_report(y_test, y_pred))"
      ],
      "metadata": {
        "id": "OWXp6kDtLzlD",
        "colab": {
          "base_uri": "https://localhost:8080/"
        },
        "outputId": "e2e84b66-89ba-4c4d-bc7f-7eb34dbab29e"
      },
      "execution_count": null,
      "outputs": [
        {
          "output_type": "stream",
          "name": "stdout",
          "text": [
            "              precision    recall  f1-score   support\n",
            "\n",
            "           0       0.85      0.84      0.85       354\n",
            "           1       0.80      0.81      0.80       355\n",
            "           2       0.61      0.67      0.64       354\n",
            "           3       0.74      0.77      0.75       354\n",
            "           4       0.79      0.68      0.74       355\n",
            "\n",
            "    accuracy                           0.75      1772\n",
            "   macro avg       0.76      0.75      0.76      1772\n",
            "weighted avg       0.76      0.75      0.76      1772\n",
            "\n"
          ]
        }
      ]
    },
    {
      "cell_type": "markdown",
      "source": [
        "**Balanceando as Classes com OverSampling utilizando SMOTE**"
      ],
      "metadata": {
        "id": "EOssKtCmMO40"
      }
    },
    {
      "cell_type": "code",
      "source": [
        "plt = sb.countplot(x=\"coupon\", data=data_base)"
      ],
      "metadata": {
        "id": "EY-cOjlQNkFT"
      },
      "execution_count": null,
      "outputs": []
    },
    {
      "cell_type": "code",
      "source": [
        "smt = SMOTE()"
      ],
      "metadata": {
        "id": "kPWBQ0eJNlnj"
      },
      "execution_count": null,
      "outputs": []
    },
    {
      "cell_type": "code",
      "source": [
        "x_smt = data_base.drop(\"coupon\", axis = 1)\n",
        "y_smt = data_base.coupon"
      ],
      "metadata": {
        "id": "DQRDFx_WODiv"
      },
      "execution_count": null,
      "outputs": []
    },
    {
      "cell_type": "code",
      "source": [
        "x_smt, y_smt = smt.fit_resample(x_smt, y_smt)"
      ],
      "metadata": {
        "id": "iPy6Df1ZOLuc"
      },
      "execution_count": null,
      "outputs": []
    },
    {
      "cell_type": "code",
      "source": [
        "data_base_smt = x_smt.merge(y_smt,left_index=True, right_index=True)"
      ],
      "metadata": {
        "id": "lW7GEg8YOc9j"
      },
      "execution_count": null,
      "outputs": []
    },
    {
      "cell_type": "code",
      "source": [
        "plt = sb.countplot(x=[\"Bar\", \"Carry out & Take away\", \"Coffee House\", \"Restaurant(<20)\" , \"Restaurant(20-50)\"], data=data_base_smt)"
      ],
      "metadata": {
        "id": "IEG8yvTxOjj7",
        "colab": {
          "base_uri": "https://localhost:8080/",
          "height": 265
        },
        "outputId": "3182211b-0dfa-443e-c12b-b6e15c905822"
      },
      "execution_count": null,
      "outputs": [
        {
          "output_type": "display_data",
          "data": {
            "text/plain": [
              "<Figure size 432x288 with 1 Axes>"
            ],
            "image/png": "[encoded data removed]"
          },
          "metadata": {
            "needs_background": "light"
          }
        }
      ]
    },
    {
      "cell_type": "markdown",
      "source": [
        "**Testando Acurácia do Modelo com OverSampling**"
      ],
      "metadata": {
        "id": "2xmVjJpJO4AF"
      }
    },
    {
      "cell_type": "code",
      "source": [
        "rf = RandomForestClassifier()\n",
        "x = data_base_smt.drop(\"coupon\", axis = 1)\n",
        "y = data_base_smt.coupon\n",
        "x_train, x_test, y_train, y_test = train_test_split(x, y, random_state = 10, stratify = y)\n",
        "rf.fit(x_train, y_train)\n",
        "y_pred = rf.predict(x_test)"
      ],
      "metadata": {
        "id": "OFb_xJCgPGmE"
      },
      "execution_count": null,
      "outputs": []
    },
    {
      "cell_type": "code",
      "source": [
        "accuracy_score(y_test, y_pred)"
      ],
      "metadata": {
        "id": "k3nVvby0PodK",
        "colab": {
          "base_uri": "https://localhost:8080/"
        },
        "outputId": "279e9093-05ae-4363-da4e-c7476da12a8f"
      },
      "execution_count": null,
      "outputs": [
        {
          "output_type": "execute_result",
          "data": {
            "text/plain": [
              "0.8614255765199161"
            ]
          },
          "metadata": {},
          "execution_count": 13
        }
      ]
    },
    {
      "cell_type": "code",
      "source": [
        "print(pd.crosstab(y_test, y_pred, rownames = [\"Real\"], colnames = [\"Predito\"], margins = True))"
      ],
      "metadata": {
        "id": "nHpP6VixPuHy",
        "colab": {
          "base_uri": "https://localhost:8080/"
        },
        "outputId": "026ebe50-1c4a-4375-a4ae-f2d3b9265bd5"
      },
      "execution_count": null,
      "outputs": [
        {
          "output_type": "stream",
          "name": "stdout",
          "text": [
            "Predito     0     1    2    3    4   All\n",
            "Real                                    \n",
            "0         900     5   15   14   20   954\n",
            "1          10   874   34   21   15   954\n",
            "2          44    86  712   79   33   954\n",
            "3          29    53   59  786   27   954\n",
            "4          37    19   37   24  837   954\n",
            "All      1020  1037  857  924  932  4770\n"
          ]
        }
      ]
    },
    {
      "cell_type": "code",
      "source": [
        "print(classification_report(y_test, y_pred))"
      ],
      "metadata": {
        "id": "S--QWgbIPxra",
        "colab": {
          "base_uri": "https://localhost:8080/"
        },
        "outputId": "1694cc02-71c0-45ca-8c00-3dc8959ff857"
      },
      "execution_count": null,
      "outputs": [
        {
          "output_type": "stream",
          "name": "stdout",
          "text": [
            "              precision    recall  f1-score   support\n",
            "\n",
            "           0       0.88      0.94      0.91       954\n",
            "           1       0.84      0.92      0.88       954\n",
            "           2       0.83      0.75      0.79       954\n",
            "           3       0.85      0.82      0.84       954\n",
            "           4       0.90      0.88      0.89       954\n",
            "\n",
            "    accuracy                           0.86      4770\n",
            "   macro avg       0.86      0.86      0.86      4770\n",
            "weighted avg       0.86      0.86      0.86      4770\n",
            "\n"
          ]
        }
      ]
    },
    {
      "cell_type": "markdown",
      "source": [
        "Atribuindo melhor modelo para teste:"
      ],
      "metadata": {
        "id": "laJs__w0Rtcy"
      }
    },
    {
      "cell_type": "code",
      "source": [
        "data_base = data_base_smt\n",
        "data_base.info()"
      ],
      "metadata": {
        "id": "r0fFe8fpR7GS",
        "colab": {
          "base_uri": "https://localhost:8080/"
        },
        "outputId": "96870f28-ef4b-4516-a620-ae89de13cbd1"
      },
      "execution_count": null,
      "outputs": [
        {
          "output_type": "stream",
          "name": "stdout",
          "text": [
            "<class 'pandas.core.frame.DataFrame'>\n",
            "RangeIndex: 19080 entries, 0 to 19079\n",
            "Data columns (total 56 columns):\n",
            " #   Column                                                Non-Null Count  Dtype\n",
            "---  ------                                                --------------  -----\n",
            " 0   destination                                           19080 non-null  int64\n",
            " 1   passanger                                             19080 non-null  int64\n",
            " 2   weather                                               19080 non-null  int64\n",
            " 3   temperature                                           19080 non-null  int64\n",
            " 4   time                                                  19080 non-null  int64\n",
            " 5   expiration                                            19080 non-null  int64\n",
            " 6   gender                                                19080 non-null  int64\n",
            " 7   age                                                   19080 non-null  int64\n",
            " 8   maritalStatus                                         19080 non-null  int64\n",
            " 9   has_children                                          19080 non-null  int64\n",
            " 10  education                                             19080 non-null  int64\n",
            " 11  Bar                                                   19080 non-null  int64\n",
            " 12  CoffeeHouse                                           19080 non-null  int64\n",
            " 13  CarryAway                                             19080 non-null  int64\n",
            " 14  RestaurantLessThan20                                  19080 non-null  int64\n",
            " 15  Restaurant20To50                                      19080 non-null  int64\n",
            " 16  toCoupon_GEQ15min                                     19080 non-null  int64\n",
            " 17  toCoupon_GEQ25min                                     19080 non-null  int64\n",
            " 18  direction_same                                        19080 non-null  int64\n",
            " 19  direction_opp                                         19080 non-null  int64\n",
            " 20  Y                                                     19080 non-null  int64\n",
            " 21  occupation_Architecture & Engineering                 19080 non-null  uint8\n",
            " 22  occupation_Arts Design Entertainment Sports & Media   19080 non-null  uint8\n",
            " 23  occupation_Building & Grounds Cleaning & Maintenance  19080 non-null  uint8\n",
            " 24  occupation_Business & Financial                       19080 non-null  uint8\n",
            " 25  occupation_Community & Social Services                19080 non-null  uint8\n",
            " 26  occupation_Computer & Mathematical                    19080 non-null  uint8\n",
            " 27  occupation_Construction & Extraction                  19080 non-null  uint8\n",
            " 28  occupation_Education&Training&Library                 19080 non-null  uint8\n",
            " 29  occupation_Farming Fishing & Forestry                 19080 non-null  uint8\n",
            " 30  occupation_Food Preparation & Serving Related         19080 non-null  uint8\n",
            " 31  occupation_Healthcare Practitioners & Technical       19080 non-null  uint8\n",
            " 32  occupation_Healthcare Support                         19080 non-null  uint8\n",
            " 33  occupation_Installation Maintenance & Repair          19080 non-null  uint8\n",
            " 34  occupation_Legal                                      19080 non-null  uint8\n",
            " 35  occupation_Life Physical Social Science               19080 non-null  uint8\n",
            " 36  occupation_Management                                 19080 non-null  uint8\n",
            " 37  occupation_Office & Administrative Support            19080 non-null  uint8\n",
            " 38  occupation_Personal Care & Service                    19080 non-null  uint8\n",
            " 39  occupation_Production Occupations                     19080 non-null  uint8\n",
            " 40  occupation_Protective Service                         19080 non-null  uint8\n",
            " 41  occupation_Retired                                    19080 non-null  uint8\n",
            " 42  occupation_Sales & Related                            19080 non-null  uint8\n",
            " 43  occupation_Student                                    19080 non-null  uint8\n",
            " 44  occupation_Transportation & Material Moving           19080 non-null  uint8\n",
            " 45  occupation_Unemployed                                 19080 non-null  uint8\n",
            " 46  income_$100000 or More                                19080 non-null  uint8\n",
            " 47  income_$12500 - $24999                                19080 non-null  uint8\n",
            " 48  income_$25000 - $37499                                19080 non-null  uint8\n",
            " 49  income_$37500 - $49999                                19080 non-null  uint8\n",
            " 50  income_$50000 - $62499                                19080 non-null  uint8\n",
            " 51  income_$62500 - $74999                                19080 non-null  uint8\n",
            " 52  income_$75000 - $87499                                19080 non-null  uint8\n",
            " 53  income_$87500 - $99999                                19080 non-null  uint8\n",
            " 54  income_Less than $12500                               19080 non-null  uint8\n",
            " 55  coupon                                                19080 non-null  int64\n",
            "dtypes: int64(22), uint8(34)\n",
            "memory usage: 3.8 MB\n"
          ]
        }
      ]
    },
    {
      "cell_type": "code",
      "source": [
        "y = np.array(data_base[\"coupon\"])\n",
        "X = np.array(data_base.drop(\"coupon\", axis=1))"
      ],
      "metadata": {
        "id": "VBHR_Rjx7aAE"
      },
      "execution_count": null,
      "outputs": []
    },
    {
      "cell_type": "markdown",
      "source": [
        "# -> Dividindo treino x teste"
      ],
      "metadata": {
        "id": "5e1Mls8q86-u"
      }
    },
    {
      "cell_type": "code",
      "source": [
        "Xtrain, Xtest, ytrain, ytest = train_test_split(X, y, test_size=0.3, random_state=0)"
      ],
      "metadata": {
        "id": "tKP5Plau9N-E"
      },
      "execution_count": null,
      "outputs": []
    },
    {
      "cell_type": "markdown",
      "source": [
        "# -> Criando um pipeline com o modelo Random Forest e treinando"
      ],
      "metadata": {
        "id": "4ju49aD6vD51"
      }
    },
    {
      "cell_type": "code",
      "source": [
        "rf_pl = make_pipeline(PCA(n_components=55),\n",
        "                          RandomForestClassifier(n_estimators=100, criterion='gini', random_state=0))\n",
        "rf_pl.fit(Xtrain, ytrain)"
      ],
      "metadata": {
        "id": "9KdNPODXvONe",
        "colab": {
          "base_uri": "https://localhost:8080/"
        },
        "outputId": "2f6263b4-ecbb-4bb3-ccd8-8f0117e561e4"
      },
      "execution_count": null,
      "outputs": [
        {
          "output_type": "execute_result",
          "data": {
            "text/plain": [
              "Pipeline(steps=[('pca', PCA(n_components=55)),\n",
              "                ('randomforestclassifier',\n",
              "                 RandomForestClassifier(random_state=0))])"
            ]
          },
          "metadata": {},
          "execution_count": 44
        }
      ]
    },
    {
      "cell_type": "markdown",
      "source": [
        "# -> Criando um pipeline com o modelo KNN e treinando"
      ],
      "metadata": {
        "id": "xIyRqIBM-xjW"
      }
    },
    {
      "cell_type": "code",
      "source": [
        "from sklearn.neighbors import KNeighborsClassifier\n",
        "knn_pl = make_pipeline(PCA(n_components=55),\n",
        "                          KNeighborsClassifier(n_neighbors=8))\n",
        "knn_pl.fit(Xtrain, ytrain)"
      ],
      "metadata": {
        "colab": {
          "base_uri": "https://localhost:8080/"
        },
        "id": "2Z7ehxBl--3f",
        "outputId": "6c4138cc-b225-4ce1-c503-105390f436e1"
      },
      "execution_count": null,
      "outputs": [
        {
          "output_type": "execute_result",
          "data": {
            "text/plain": [
              "Pipeline(steps=[('pca', PCA(n_components=55)),\n",
              "                ('kneighborsclassifier', KNeighborsClassifier(n_neighbors=8))])"
            ]
          },
          "metadata": {},
          "execution_count": 43
        }
      ]
    },
    {
      "cell_type": "markdown",
      "source": [
        "# -> Criando um pipeline com o modelo Árvore de Decisão e treinando"
      ],
      "metadata": {
        "id": "QUrlNu-R-2QZ"
      }
    },
    {
      "cell_type": "code",
      "source": [
        "from sklearn.tree import DecisionTreeClassifier\n",
        "ad_pl = make_pipeline(PCA(n_components=55),\n",
        "                          DecisionTreeClassifier())\n",
        "ad_pl.fit(Xtrain, ytrain)"
      ],
      "metadata": {
        "colab": {
          "base_uri": "https://localhost:8080/"
        },
        "id": "NSL1Q0vc-_Kt",
        "outputId": "96af3e3a-95ef-4776-c153-a1d7c4e1cf7e"
      },
      "execution_count": null,
      "outputs": [
        {
          "output_type": "execute_result",
          "data": {
            "text/plain": [
              "Pipeline(steps=[('pca', PCA(n_components=55)),\n",
              "                ('decisiontreeclassifier', DecisionTreeClassifier())])"
            ]
          },
          "metadata": {},
          "execution_count": 45
        }
      ]
    },
    {
      "cell_type": "markdown",
      "source": [
        "# -> Criando um pipeline com o modelo SVM e treinando"
      ],
      "metadata": {
        "id": "fjM6ZbHS-7xr"
      }
    },
    {
      "cell_type": "code",
      "source": [
        "from sklearn.svm import SVC\n",
        "svm_pl = make_pipeline(PCA(n_components=55),\n",
        "                          SVC(kernel='rbf'))\n",
        "svm_pl.fit(Xtrain, ytrain)"
      ],
      "metadata": {
        "colab": {
          "base_uri": "https://localhost:8080/"
        },
        "id": "Ge2Y1eAR_Klk",
        "outputId": "524b56f7-76b5-46dd-8e25-87d8bbd1de1a"
      },
      "execution_count": null,
      "outputs": [
        {
          "output_type": "execute_result",
          "data": {
            "text/plain": [
              "Pipeline(steps=[('pca', PCA(n_components=55)), ('svc', SVC())])"
            ]
          },
          "metadata": {},
          "execution_count": 46
        }
      ]
    },
    {
      "cell_type": "markdown",
      "source": [
        "# -> Avaliando a capacidade de generalização dos modelos com a Validação Cruzada do tipo Stratified KFold"
      ],
      "metadata": {
        "id": "6hMfqu-u-qjG"
      }
    },
    {
      "cell_type": "code",
      "source": [
        "'''Utilizamos a validação cruzada do tipo StratifiedKFold pois ela garante\n",
        "que para cada fold teremos o balanceamento das classes.'''\n",
        "\n",
        "Kfold = StratifiedKFold(n_splits=3).split(Xtrain, ytrain)\n",
        "scores = []\n",
        "\n",
        "for k, (train, test) in enumerate(Kfold):\n",
        "  rf_pl.fit(Xtrain[train], ytrain[train])\n",
        "  score = rf_pl.score(Xtrain[test], ytrain[test])\n",
        "  scores.append(score)\n",
        "  print('Fold: %2d, Distribuição da classe: %s, Acur.: %.3f' %(k+1, np.bincount(ytrain[test]), score))"
      ],
      "metadata": {
        "id": "vH6jldHoWX-u",
        "colab": {
          "base_uri": "https://localhost:8080/"
        },
        "outputId": "4f775914-c946-4e85-b966-7ad856c90900"
      },
      "execution_count": null,
      "outputs": [
        {
          "output_type": "stream",
          "name": "stdout",
          "text": [
            "Fold:  1, Distribuição da classe: [893 898 896 884 881], Acur.: 0.752\n",
            "Fold:  2, Distribuição da classe: [893 898 895 885 881], Acur.: 0.766\n",
            "Fold:  3, Distribuição da classe: [892 899 896 884 881], Acur.: 0.771\n"
          ]
        }
      ]
    },
    {
      "cell_type": "code",
      "source": [
        "print(\"Acurácia Média entre os Folds: \", np.mean(scores))"
      ],
      "metadata": {
        "colab": {
          "base_uri": "https://localhost:8080/"
        },
        "id": "offHHVwCB4Gt",
        "outputId": "de38ecff-a91f-43f4-d600-62c2e7e873d3"
      },
      "execution_count": null,
      "outputs": [
        {
          "output_type": "stream",
          "name": "stdout",
          "text": [
            "Acurácia Média entre os Folds:  0.7632524707996406\n"
          ]
        }
      ]
    },
    {
      "cell_type": "code",
      "source": [
        "Kfold = StratifiedKFold(n_splits=3).split(Xtrain, ytrain)\n",
        "scores = []\n",
        "\n",
        "for k, (train, test) in enumerate(Kfold):\n",
        "  knn_pl.fit(Xtrain[train], ytrain[train])\n",
        "  score = knn_pl.score(Xtrain[test], ytrain[test])\n",
        "  scores.append(score)\n",
        "  print('Fold: %2d, Distribuição da classe: %s, Acur.: %.3f' %(k+1, np.bincount(ytrain[test]), score))"
      ],
      "metadata": {
        "colab": {
          "base_uri": "https://localhost:8080/"
        },
        "id": "RgIalqkwBsRa",
        "outputId": "4bfcbe82-bf62-49af-ab93-849b5bf2a262"
      },
      "execution_count": null,
      "outputs": [
        {
          "output_type": "stream",
          "name": "stdout",
          "text": [
            "Fold:  1, Distribuição da classe: [893 898 896 884 881], Acur.: 0.525\n",
            "Fold:  2, Distribuição da classe: [893 898 895 885 881], Acur.: 0.537\n",
            "Fold:  3, Distribuição da classe: [892 899 896 884 881], Acur.: 0.522\n"
          ]
        }
      ]
    },
    {
      "cell_type": "code",
      "source": [
        "print(\"Acurácia Média entre os Folds: \", np.mean(scores))"
      ],
      "metadata": {
        "colab": {
          "base_uri": "https://localhost:8080/"
        },
        "id": "U3vD06vpB5-Y",
        "outputId": "659148ec-70aa-429c-e8a9-353ad412f58f"
      },
      "execution_count": null,
      "outputs": [
        {
          "output_type": "stream",
          "name": "stdout",
          "text": [
            "Acurácia Média entre os Folds:  0.52785265049416\n"
          ]
        }
      ]
    },
    {
      "cell_type": "code",
      "source": [
        "Kfold = StratifiedKFold(n_splits=3).split(Xtrain, ytrain)\n",
        "scores = []\n",
        "\n",
        "for k, (train, test) in enumerate(Kfold):\n",
        "  ad_pl.fit(Xtrain[train], ytrain[train])\n",
        "  score = ad_pl.score(Xtrain[test], ytrain[test])\n",
        "  scores.append(score)\n",
        "  print('Fold: %2d, Distribuição da classe: %s, Acur.: %.3f' %(k+1, np.bincount(ytrain[test]), score))"
      ],
      "metadata": {
        "colab": {
          "base_uri": "https://localhost:8080/"
        },
        "id": "_thZrx45BzQc",
        "outputId": "d95b76c2-dac6-4748-fe1a-40c58c4b6a62"
      },
      "execution_count": null,
      "outputs": [
        {
          "output_type": "stream",
          "name": "stdout",
          "text": [
            "Fold:  1, Distribuição da classe: [893 898 896 884 881], Acur.: 0.700\n",
            "Fold:  2, Distribuição da classe: [893 898 895 885 881], Acur.: 0.691\n",
            "Fold:  3, Distribuição da classe: [892 899 896 884 881], Acur.: 0.728\n"
          ]
        }
      ]
    },
    {
      "cell_type": "code",
      "source": [
        "print(\"Acurácia Média entre os Folds: \", np.mean(scores))"
      ],
      "metadata": {
        "id": "U_s_IO-mKT7p",
        "colab": {
          "base_uri": "https://localhost:8080/"
        },
        "outputId": "d737cc8a-d10a-4709-9f4a-addd99451aa4"
      },
      "execution_count": null,
      "outputs": [
        {
          "output_type": "stream",
          "name": "stdout",
          "text": [
            "Acurácia Média entre os Folds:  0.7060497154836778\n"
          ]
        }
      ]
    },
    {
      "cell_type": "code",
      "source": [
        "Kfold = StratifiedKFold(n_splits=3).split(Xtrain, ytrain)\n",
        "scores = []\n",
        "\n",
        "for k, (train, test) in enumerate(Kfold):\n",
        "  svm_pl.fit(Xtrain[train], ytrain[train])\n",
        "  score = svm_pl.score(Xtrain[test], ytrain[test])\n",
        "  scores.append(score)\n",
        "  print('Fold: %2d, Distribuição da classe: %s, Acur.: %.3f' %(k+1, np.bincount(ytrain[test]), score))"
      ],
      "metadata": {
        "colab": {
          "base_uri": "https://localhost:8080/"
        },
        "id": "2n3Mh2AACEwA",
        "outputId": "122ea63d-5f57-4950-8ed8-fdb3b68ad350"
      },
      "execution_count": null,
      "outputs": [
        {
          "output_type": "stream",
          "name": "stdout",
          "text": [
            "Fold:  1, Distribuição da classe: [893 898 896 884 881], Acur.: 0.446\n",
            "Fold:  2, Distribuição da classe: [893 898 895 885 881], Acur.: 0.441\n",
            "Fold:  3, Distribuição da classe: [892 899 896 884 881], Acur.: 0.448\n"
          ]
        }
      ]
    },
    {
      "cell_type": "code",
      "source": [
        "print(\"Acurácia Média entre os Folds: \", np.mean(scores))"
      ],
      "metadata": {
        "colab": {
          "base_uri": "https://localhost:8080/"
        },
        "id": "JxFN-2RoCKva",
        "outputId": "2b8cb7f3-c36c-41dd-b583-282ec2fc6710"
      },
      "execution_count": null,
      "outputs": [
        {
          "output_type": "stream",
          "name": "stdout",
          "text": [
            "Acurácia Média entre os Folds:  0.44496855345911945\n"
          ]
        }
      ]
    },
    {
      "cell_type": "markdown",
      "source": [
        "# -> Testando os nossos Modelos com os dados de teste"
      ],
      "metadata": {
        "id": "6uFA9vi0Y6Im"
      }
    },
    {
      "cell_type": "code",
      "source": [
        "y_pred = rf_pl.predict(Xtest)\n",
        "print(rf_pl.score(Xtest, ytest))"
      ],
      "metadata": {
        "id": "7k_TNFzbY9q2",
        "colab": {
          "base_uri": "https://localhost:8080/"
        },
        "outputId": "a9384a65-0c50-4ce8-fa5b-dc006b632a4a"
      },
      "execution_count": null,
      "outputs": [
        {
          "output_type": "stream",
          "name": "stdout",
          "text": [
            "0.7679944095038435\n"
          ]
        }
      ]
    },
    {
      "cell_type": "code",
      "source": [
        "print(classification_report(ytest, y_pred))"
      ],
      "metadata": {
        "colab": {
          "base_uri": "https://localhost:8080/"
        },
        "id": "2HFSbkTDH2X3",
        "outputId": "d3818af2-6b8e-49ec-af31-4a3a163b9db3"
      },
      "execution_count": null,
      "outputs": [
        {
          "output_type": "stream",
          "name": "stdout",
          "text": [
            "              precision    recall  f1-score   support\n",
            "\n",
            "           0       0.79      0.82      0.80      1138\n",
            "           1       0.78      0.81      0.79      1121\n",
            "           2       0.68      0.76      0.72      1129\n",
            "           3       0.73      0.70      0.72      1163\n",
            "           4       0.88      0.75      0.81      1173\n",
            "\n",
            "    accuracy                           0.77      5724\n",
            "   macro avg       0.77      0.77      0.77      5724\n",
            "weighted avg       0.77      0.77      0.77      5724\n",
            "\n"
          ]
        }
      ]
    },
    {
      "cell_type": "code",
      "source": [
        "y_pred = knn_pl.predict(Xtest)\n",
        "print(knn_pl.score(Xtest, ytest))"
      ],
      "metadata": {
        "colab": {
          "base_uri": "https://localhost:8080/"
        },
        "id": "XqVnVS5cCdQW",
        "outputId": "e77500cd-9e71-4f25-c262-e39602fd37be"
      },
      "execution_count": null,
      "outputs": [
        {
          "output_type": "stream",
          "name": "stdout",
          "text": [
            "0.5246331236897275\n"
          ]
        }
      ]
    },
    {
      "cell_type": "code",
      "source": [
        "print(classification_report(ytest, y_pred))"
      ],
      "metadata": {
        "colab": {
          "base_uri": "https://localhost:8080/"
        },
        "id": "UEkiGtnkH9Ha",
        "outputId": "1ba4e6b7-5610-49f7-ec7b-bf0ae3fdad3e"
      },
      "execution_count": null,
      "outputs": [
        {
          "output_type": "stream",
          "name": "stdout",
          "text": [
            "              precision    recall  f1-score   support\n",
            "\n",
            "           0       0.53      0.71      0.61      1138\n",
            "           1       0.51      0.60      0.55      1121\n",
            "           2       0.52      0.28      0.36      1129\n",
            "           3       0.51      0.36      0.42      1163\n",
            "           4       0.55      0.67      0.61      1173\n",
            "\n",
            "    accuracy                           0.52      5724\n",
            "   macro avg       0.52      0.52      0.51      5724\n",
            "weighted avg       0.52      0.52      0.51      5724\n",
            "\n"
          ]
        }
      ]
    },
    {
      "cell_type": "code",
      "source": [
        "y_pred = ad_pl.predict(Xtest)\n",
        "print(ad_pl.score(Xtest, ytest))"
      ],
      "metadata": {
        "colab": {
          "base_uri": "https://localhost:8080/"
        },
        "id": "9dKr8Z3mCebc",
        "outputId": "39587189-1629-4686-8628-097e0fb2c388"
      },
      "execution_count": null,
      "outputs": [
        {
          "output_type": "stream",
          "name": "stdout",
          "text": [
            "0.717330538085255\n"
          ]
        }
      ]
    },
    {
      "cell_type": "code",
      "source": [
        "print(classification_report(ytest, y_pred))"
      ],
      "metadata": {
        "colab": {
          "base_uri": "https://localhost:8080/"
        },
        "id": "2hRCKpoDIBHS",
        "outputId": "d994a6a9-59f0-4a63-8602-fb391a6bbe96"
      },
      "execution_count": null,
      "outputs": [
        {
          "output_type": "stream",
          "name": "stdout",
          "text": [
            "              precision    recall  f1-score   support\n",
            "\n",
            "           0       0.76      0.77      0.77      1138\n",
            "           1       0.76      0.75      0.75      1121\n",
            "           2       0.64      0.65      0.64      1129\n",
            "           3       0.65      0.65      0.65      1163\n",
            "           4       0.77      0.77      0.77      1173\n",
            "\n",
            "    accuracy                           0.72      5724\n",
            "   macro avg       0.72      0.72      0.72      5724\n",
            "weighted avg       0.72      0.72      0.72      5724\n",
            "\n"
          ]
        }
      ]
    },
    {
      "cell_type": "code",
      "source": [
        "y_pred = svm_pl.predict(Xtest)\n",
        "print(svm_pl.score(Xtest, ytest))"
      ],
      "metadata": {
        "colab": {
          "base_uri": "https://localhost:8080/"
        },
        "id": "On7deBXUCe9K",
        "outputId": "a1047ac9-4474-4f1e-a9a7-0fc1bfd6ff57"
      },
      "execution_count": null,
      "outputs": [
        {
          "output_type": "stream",
          "name": "stdout",
          "text": [
            "0.44846261355695316\n"
          ]
        }
      ]
    },
    {
      "cell_type": "code",
      "source": [
        "print(classification_report(ytest, y_pred))"
      ],
      "metadata": {
        "colab": {
          "base_uri": "https://localhost:8080/"
        },
        "id": "qRcxuT_wIE8a",
        "outputId": "89469b7d-f67f-4912-dbb0-3e02934cc791"
      },
      "execution_count": null,
      "outputs": [
        {
          "output_type": "stream",
          "name": "stdout",
          "text": [
            "              precision    recall  f1-score   support\n",
            "\n",
            "           0       0.43      0.54      0.48      1138\n",
            "           1       0.44      0.44      0.44      1121\n",
            "           2       0.41      0.55      0.47      1129\n",
            "           3       0.39      0.38      0.38      1163\n",
            "           4       0.74      0.34      0.47      1173\n",
            "\n",
            "    accuracy                           0.45      5724\n",
            "   macro avg       0.48      0.45      0.45      5724\n",
            "weighted avg       0.48      0.45      0.45      5724\n",
            "\n"
          ]
        }
      ]
    },
    {
      "cell_type": "markdown",
      "source": [
        "# -> Outras Métricas de Avaliação"
      ],
      "metadata": {
        "id": "8ugluYG81WM9"
      }
    },
    {
      "cell_type": "markdown",
      "source": [
        "-> MATRIZ DE CONFUSÃO:  A matriz nos mostra o número de casos em que o nosso modelo acertou ou errou em cada categoria."
      ],
      "metadata": {
        "id": "yrw81nO_YNDZ"
      }
    },
    {
      "cell_type": "code",
      "source": [
        "from sklearn.metrics._plot.confusion_matrix import plot_confusion_matrix\n",
        "from sklearn.metrics import confusion_matrix\n",
        "\n",
        "confusion = confusion_matrix(ytest, y_pred)\n",
        "plot_confusion_matrix(rf_pl.fit(Xtrain, ytrain),X=Xtest, y_true=ytest)"
      ],
      "metadata": {
        "id": "VnXh4j8J1d4w",
        "colab": {
          "base_uri": "https://localhost:8080/",
          "height": 351
        },
        "outputId": "0944ec75-4bd4-4452-acbf-798caa24e829"
      },
      "execution_count": null,
      "outputs": [
        {
          "output_type": "stream",
          "name": "stderr",
          "text": [
            "/usr/local/lib/python3.7/dist-packages/sklearn/utils/deprecation.py:87: FutureWarning: Function plot_confusion_matrix is deprecated; Function `plot_confusion_matrix` is deprecated in 1.0 and will be removed in 1.2. Use one of the class methods: ConfusionMatrixDisplay.from_predictions or ConfusionMatrixDisplay.from_estimator.\n",
            "  warnings.warn(msg, category=FutureWarning)\n"
          ]
        },
        {
          "output_type": "execute_result",
          "data": {
            "text/plain": [
              "<sklearn.metrics._plot.confusion_matrix.ConfusionMatrixDisplay at 0x7f1ba97c1910>"
            ]
          },
          "metadata": {},
          "execution_count": 64
        },
        {
          "output_type": "display_data",
          "data": {
            "text/plain": [
              "<Figure size 432x288 with 2 Axes>"
            ],
            "image/png": "[encoded data removed]"
          },
          "metadata": {
            "needs_background": "light"
          }
        }
      ]
    },
    {
      "cell_type": "code",
      "source": [
        "FP = confusion.sum(axis=0) - np.diag(confusion)  \n",
        "FN = confusion.sum(axis=1) - np.diag(confusion)\n",
        "TP = np.diag(confusion)\n",
        "TN = confusion.sum() - (FP + FN + TP)"
      ],
      "metadata": {
        "id": "QDpJtcK-INXg"
      },
      "execution_count": null,
      "outputs": []
    },
    {
      "cell_type": "markdown",
      "source": [
        "-> Acurácia: nos diz quantos acertos o nosso modelo teve"
      ],
      "metadata": {
        "id": "bI7uu3bDY2A5"
      }
    },
    {
      "cell_type": "code",
      "source": [
        "for c in range(0, 5):\n",
        "  print(\"CLASSE: \", c,\"ACURÁCIA: \", (TP[c] + TN[c]) / float(TP[c] + TN[c] + FP[c] + FN[c])) # Acurácia"
      ],
      "metadata": {
        "id": "eJjWjM9J5COp",
        "colab": {
          "base_uri": "https://localhost:8080/"
        },
        "outputId": "64b4af1d-3f9c-44eb-8727-153b49e13ae8"
      },
      "execution_count": null,
      "outputs": [
        {
          "output_type": "stream",
          "name": "stdout",
          "text": [
            "CLASSE:  0 ACURÁCIA:  0.9208595387840671\n",
            "CLASSE:  1 ACURÁCIA:  0.9173654786862334\n",
            "CLASSE:  2 ACURÁCIA:  0.8836477987421384\n",
            "CLASSE:  3 ACURÁCIA:  0.8869671558350803\n",
            "CLASSE:  4 ACURÁCIA:  0.9271488469601677\n"
          ]
        }
      ]
    },
    {
      "cell_type": "markdown",
      "source": [
        "-> Sensibilidade: Essa métrica avalia a capacidade do método de detectar com sucesso resultados classificados como positivos. Ela pode ser obtida pela equação:"
      ],
      "metadata": {
        "id": "9uysNFaZY8e5"
      }
    },
    {
      "cell_type": "code",
      "source": [
        "for c in range(0, 5):\n",
        "  print(\"CLASSE: \", c,\"SENSIBILIDADE:\", (TP[c] / float(TP[c] + FN[c]))) # Sensibilidade (ou recall)"
      ],
      "metadata": {
        "id": "ENzyATlO5LUI",
        "colab": {
          "base_uri": "https://localhost:8080/"
        },
        "outputId": "e7618b86-196c-4fe4-d362-424734dc8042"
      },
      "execution_count": null,
      "outputs": [
        {
          "output_type": "stream",
          "name": "stdout",
          "text": [
            "CLASSE:  0 SENSIBILIDADE: 0.8172231985940246\n",
            "CLASSE:  1 SENSIBILIDADE: 0.8144513826940232\n",
            "CLASSE:  2 SENSIBILIDADE: 0.7617360496014172\n",
            "CLASSE:  3 SENSIBILIDADE: 0.7016337059329321\n",
            "CLASSE:  4 SENSIBILIDADE: 0.7476555839727195\n"
          ]
        }
      ]
    },
    {
      "cell_type": "markdown",
      "source": [
        "-> Especificidade: avalia a capacidade do método de detectar resultados negativos. Podemos calculá-la usando a equação:"
      ],
      "metadata": {
        "id": "jwvItkhjaHtN"
      }
    },
    {
      "cell_type": "code",
      "source": [
        "for c in range(0, 5):\n",
        "  print(\"CLASSE: \", c,\"ESPECIFICIDADE: \", (TN[c] / float(TN[c] + FP[c]))) # Especificidade"
      ],
      "metadata": {
        "id": "4OslnGEK5UFS",
        "colab": {
          "base_uri": "https://localhost:8080/"
        },
        "outputId": "e2bd9145-ce62-4612-ac24-14840c2ed662"
      },
      "execution_count": null,
      "outputs": [
        {
          "output_type": "stream",
          "name": "stdout",
          "text": [
            "CLASSE:  0 ESPECIFICIDADE:  0.9465765372873964\n",
            "CLASSE:  1 ESPECIFICIDADE:  0.9424288507495112\n",
            "CLASSE:  2 ESPECIFICIDADE:  0.913601741022851\n",
            "CLASSE:  3 ESPECIFICIDADE:  0.934224950668713\n",
            "CLASSE:  4 ESPECIFICIDADE:  0.973412436827071\n"
          ]
        }
      ]
    },
    {
      "cell_type": "markdown",
      "source": [
        "-> Taxa de falsos positivos\n",
        "\n"
      ],
      "metadata": {
        "id": "ji0Q5NFNauz7"
      }
    },
    {
      "cell_type": "code",
      "source": [
        "for c in range(0, 5):\n",
        "  print(\"CLASSE: \", c,\"TAXA FP: \", (FP[c] / float(TN[c] + FP[c]))) #Taxa Positiva Falsa"
      ],
      "metadata": {
        "id": "1zneJPWd5kgp",
        "colab": {
          "base_uri": "https://localhost:8080/"
        },
        "outputId": "04e8ab44-5427-413e-e069-cecdc3d965e4"
      },
      "execution_count": null,
      "outputs": [
        {
          "output_type": "stream",
          "name": "stdout",
          "text": [
            "CLASSE:  0 TAXA FP:  0.05342346271260358\n",
            "CLASSE:  1 TAXA FP:  0.05757114925048881\n",
            "CLASSE:  2 TAXA FP:  0.08639825897714908\n",
            "CLASSE:  3 TAXA FP:  0.065775049331287\n",
            "CLASSE:  4 TAXA FP:  0.026587563172929027\n"
          ]
        }
      ]
    },
    {
      "cell_type": "markdown",
      "source": [
        "# -> PRECISÃO: Podemos definir a precisão de um modelo de Machine Learning como a proporção de predições corretas de uma categoria em relação a todas as previsões feitas dessa categoria. "
      ],
      "metadata": {
        "id": "USSQU7ZHX6pp"
      }
    },
    {
      "cell_type": "code",
      "source": [
        "for c in range(0, 5):\n",
        "  print(\"CLASSE: \", c,\"PRECISÃO: \", (TP[c] / float(TP[c] + FP[c]))) # Precisão"
      ],
      "metadata": {
        "id": "awgdngA15zH8",
        "colab": {
          "base_uri": "https://localhost:8080/"
        },
        "outputId": "654225bc-19cf-4301-a4f9-9b42a3bde2ba"
      },
      "execution_count": null,
      "outputs": [
        {
          "output_type": "stream",
          "name": "stdout",
          "text": [
            "CLASSE:  0 PRECISÃO:  0.7914893617021277\n",
            "CLASSE:  1 PRECISÃO:  0.7750424448217318\n",
            "CLASSE:  2 PRECISÃO:  0.6841686555290374\n",
            "CLASSE:  3 PRECISÃO:  0.7311827956989247\n",
            "CLASSE:  4 PRECISÃO:  0.8787575150300602\n"
          ]
        }
      ]
    },
    {
      "cell_type": "markdown",
      "source": [
        "### CONCLUSÃO\n",
        "-> Em um primeiro momento, podemos achar que uma acurácia abaixo dos 80% é algo muito ruim para um modelo de predição. Porém, observem que estamos tratando de uma modelagem de comportamento humano (algo extremamente complexo).\n",
        "\n",
        "-> Com a sensibilidade, podemos notar que o nosso modelo é eficiente para classificar casos em que o motorista aceita o cupom.\n",
        "\n",
        "-> Em suma, este trabalho serviu para entendermos como, usando dados de uma pesquisa realizada em centenas de indivíduos, podemos utilizar regras simples baseadas em contexto individual de uma forma extremamente útil para gerar modelos que solucionam problemas de previsão de comportamento desse indivíduo."
      ],
      "metadata": {
        "id": "INoRXvUsReMT"
      }
    }
  ]
}